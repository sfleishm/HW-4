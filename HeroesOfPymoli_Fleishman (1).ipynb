{
 "cells": [
  {
   "cell_type": "markdown",
   "metadata": {},
   "source": [
    "### Heroes Of Pymoli Data Analysis\n",
    "* I was excited to work on this homework because I am super interested in game data. For this assignment I was interested in seeing what items people were buying. To take this data and reflect it onto a real game with more information, I would like to see why people bought certain items. For example, why was \"Oathbreaker, Last Hope of the Breaking Storm\" the most popular item? Is it extremely powerful, do people like the name? I hope to take this data and apply it to a real game. \n",
    "\n",
    "* For the analysis, it is interesting to note that the most popular sold items are mostly 3.50 to the max(4.99). These items are most likely significantly stronger than other items in the game. Since the developers want to make money, then it makes sense to have strong items be higher priced. People who want to compete in the game will therefore spend money on the game. It would be interesting to see what \"Pursuit, Cudgel of Necromancy\" does for the character, as it is much cheaper than the other popular items. Most likely, it is just a solid weapon that poeple don't mind spending a dollar on.\n",
    "\n",
    "* The next interesting piece from this data is the age and price piece. I was expecting to see people later in life spending some more money on the game, since maybe they have a more stable job and therefore some disposable income. As the data shows, on average, the player in the 35 - 39 age group on average spent more on the game than other ages. While this is a neat statistic from the data, people in the 35 - 39 age group are among the lower percentage of players, so it could be blown out of proportion by a few players. \n",
    "\n",
    "* Finally, I'm surprised to see that the most someone spent on the game was 19.00. In a lot of micro transaction games, there are always those stories of people spending hundreds of dollars on a free game. To have the top spenders all be around the same amount is interesting to me. \n",
    "-----"
   ]
  },
  {
   "cell_type": "markdown",
   "metadata": {},
   "source": [
    "### Note\n",
    "* Instructions have been included for each segment. You do not have to follow them exactly, but they are included to help you think through the steps."
   ]
  },
  {
   "cell_type": "code",
   "execution_count": 10,
   "metadata": {},
   "outputs": [
    {
     "data": {
      "text/html": [
       "<div>\n",
       "<style scoped>\n",
       "    .dataframe tbody tr th:only-of-type {\n",
       "        vertical-align: middle;\n",
       "    }\n",
       "\n",
       "    .dataframe tbody tr th {\n",
       "        vertical-align: top;\n",
       "    }\n",
       "\n",
       "    .dataframe thead th {\n",
       "        text-align: right;\n",
       "    }\n",
       "</style>\n",
       "<table border=\"1\" class=\"dataframe\">\n",
       "  <thead>\n",
       "    <tr style=\"text-align: right;\">\n",
       "      <th></th>\n",
       "      <th>Purchase ID</th>\n",
       "      <th>SN</th>\n",
       "      <th>Age</th>\n",
       "      <th>Gender</th>\n",
       "      <th>Item ID</th>\n",
       "      <th>Item Name</th>\n",
       "      <th>Price</th>\n",
       "    </tr>\n",
       "  </thead>\n",
       "  <tbody>\n",
       "    <tr>\n",
       "      <th>0</th>\n",
       "      <td>0</td>\n",
       "      <td>Lisim78</td>\n",
       "      <td>20</td>\n",
       "      <td>Male</td>\n",
       "      <td>108</td>\n",
       "      <td>Extraction, Quickblade Of Trembling Hands</td>\n",
       "      <td>3.53</td>\n",
       "    </tr>\n",
       "    <tr>\n",
       "      <th>1</th>\n",
       "      <td>1</td>\n",
       "      <td>Lisovynya38</td>\n",
       "      <td>40</td>\n",
       "      <td>Male</td>\n",
       "      <td>143</td>\n",
       "      <td>Frenzied Scimitar</td>\n",
       "      <td>1.56</td>\n",
       "    </tr>\n",
       "    <tr>\n",
       "      <th>2</th>\n",
       "      <td>2</td>\n",
       "      <td>Ithergue48</td>\n",
       "      <td>24</td>\n",
       "      <td>Male</td>\n",
       "      <td>92</td>\n",
       "      <td>Final Critic</td>\n",
       "      <td>4.88</td>\n",
       "    </tr>\n",
       "    <tr>\n",
       "      <th>3</th>\n",
       "      <td>3</td>\n",
       "      <td>Chamassasya86</td>\n",
       "      <td>24</td>\n",
       "      <td>Male</td>\n",
       "      <td>100</td>\n",
       "      <td>Blindscythe</td>\n",
       "      <td>3.27</td>\n",
       "    </tr>\n",
       "    <tr>\n",
       "      <th>4</th>\n",
       "      <td>4</td>\n",
       "      <td>Iskosia90</td>\n",
       "      <td>23</td>\n",
       "      <td>Male</td>\n",
       "      <td>131</td>\n",
       "      <td>Fury</td>\n",
       "      <td>1.44</td>\n",
       "    </tr>\n",
       "  </tbody>\n",
       "</table>\n",
       "</div>"
      ],
      "text/plain": [
       "   Purchase ID             SN  Age Gender  Item ID  \\\n",
       "0            0        Lisim78   20   Male      108   \n",
       "1            1    Lisovynya38   40   Male      143   \n",
       "2            2     Ithergue48   24   Male       92   \n",
       "3            3  Chamassasya86   24   Male      100   \n",
       "4            4      Iskosia90   23   Male      131   \n",
       "\n",
       "                                   Item Name  Price  \n",
       "0  Extraction, Quickblade Of Trembling Hands   3.53  \n",
       "1                          Frenzied Scimitar   1.56  \n",
       "2                               Final Critic   4.88  \n",
       "3                                Blindscythe   3.27  \n",
       "4                                       Fury   1.44  "
      ]
     },
     "execution_count": 10,
     "metadata": {},
     "output_type": "execute_result"
    }
   ],
   "source": [
    "# Dependencies and Setup\n",
    "import pandas as pd\n",
    "import numpy as np\n",
    "\n",
    "# File to Load (Remember to Change These)\n",
    "file = \"purchase_data.csv\"\n",
    "\n",
    "# Read Purchasing File and store into Pandas data frame\n",
    "purchase_data = pd.read_csv(file)\n",
    "purchase_data.head()"
   ]
  },
  {
   "cell_type": "code",
   "execution_count": 3,
   "metadata": {},
   "outputs": [
    {
     "data": {
      "text/plain": [
       "Index(['Purchase ID', 'SN', 'Age', 'Gender', 'Item ID', 'Item Name', 'Price'], dtype='object')"
      ]
     },
     "execution_count": 3,
     "metadata": {},
     "output_type": "execute_result"
    }
   ],
   "source": [
    "purchase_data.columns"
   ]
  },
  {
   "cell_type": "markdown",
   "metadata": {},
   "source": [
    "## Player Count"
   ]
  },
  {
   "cell_type": "markdown",
   "metadata": {},
   "source": [
    "* Display the total number of players\n"
   ]
  },
  {
   "cell_type": "code",
   "execution_count": 11,
   "metadata": {},
   "outputs": [
    {
     "data": {
      "text/html": [
       "<div>\n",
       "<style scoped>\n",
       "    .dataframe tbody tr th:only-of-type {\n",
       "        vertical-align: middle;\n",
       "    }\n",
       "\n",
       "    .dataframe tbody tr th {\n",
       "        vertical-align: top;\n",
       "    }\n",
       "\n",
       "    .dataframe thead th {\n",
       "        text-align: right;\n",
       "    }\n",
       "</style>\n",
       "<table border=\"1\" class=\"dataframe\">\n",
       "  <thead>\n",
       "    <tr style=\"text-align: right;\">\n",
       "      <th></th>\n",
       "      <th>Unique # of Player</th>\n",
       "    </tr>\n",
       "  </thead>\n",
       "  <tbody>\n",
       "    <tr>\n",
       "      <th>0</th>\n",
       "      <td>576</td>\n",
       "    </tr>\n",
       "  </tbody>\n",
       "</table>\n",
       "</div>"
      ],
      "text/plain": [
       "   Unique # of Player\n",
       "0                 576"
      ]
     },
     "execution_count": 11,
     "metadata": {},
     "output_type": "execute_result"
    }
   ],
   "source": [
    "unique = len(purchase_data[\"SN\"].unique())\n",
    "summary_unique = pd.DataFrame({\"Unique # of Player\": [unique]})\n",
    "summary_unique"
   ]
  },
  {
   "cell_type": "markdown",
   "metadata": {},
   "source": [
    "## Purchasing Analysis (Total)"
   ]
  },
  {
   "cell_type": "markdown",
   "metadata": {},
   "source": [
    "* Run basic calculations to obtain number of unique items, average price, etc.\n",
    "\n",
    "\n",
    "* Create a summary data frame to hold the results\n",
    "\n",
    "\n",
    "* Optional: give the displayed data cleaner formatting\n",
    "\n",
    "\n",
    "* Display the summary data frame\n"
   ]
  },
  {
   "cell_type": "code",
   "execution_count": 24,
   "metadata": {},
   "outputs": [
    {
     "data": {
      "text/html": [
       "<style  type=\"text/css\" >\n",
       "</style><table id=\"T_e98e18be_9ac9_11e9_b1ed_f82819e5bdd6\" ><thead>    <tr>        <th class=\"blank level0\" ></th>        <th class=\"col_heading level0 col0\" >Unique Items</th>        <th class=\"col_heading level0 col1\" >Average Price</th>        <th class=\"col_heading level0 col2\" >Max Price</th>    </tr></thead><tbody>\n",
       "                <tr>\n",
       "                        <th id=\"T_e98e18be_9ac9_11e9_b1ed_f82819e5bdd6level0_row0\" class=\"row_heading level0 row0\" >0</th>\n",
       "                        <td id=\"T_e98e18be_9ac9_11e9_b1ed_f82819e5bdd6row0_col0\" class=\"data row0 col0\" >179</td>\n",
       "                        <td id=\"T_e98e18be_9ac9_11e9_b1ed_f82819e5bdd6row0_col1\" class=\"data row0 col1\" >$2.46</td>\n",
       "                        <td id=\"T_e98e18be_9ac9_11e9_b1ed_f82819e5bdd6row0_col2\" class=\"data row0 col2\" >$4.99</td>\n",
       "            </tr>\n",
       "    </tbody></table>"
      ],
      "text/plain": [
       "<pandas.io.formats.style.Styler at 0x1739ee18d68>"
      ]
     },
     "execution_count": 24,
     "metadata": {},
     "output_type": "execute_result"
    }
   ],
   "source": [
    "uniqueItems = len(purchase_data[\"Item Name\"].unique())\n",
    "uniquePrice = purchase_data[\"Price\"].unique()\n",
    "uniquePriceSum = uniquePrice.sum()\n",
    "averagePrice = uniquePriceSum / uniqueItems\n",
    "summaryStuff = pd.DataFrame({\"Unique Items\": [uniqueItems],\n",
    "                             \"Average Price\": (averagePrice),\n",
    "                             \"Max Price\": (purchase_data[\"Price\"].max())})\n",
    "summaryStuff.style.format({\"Average Price\": \"${:,.2f}\",\n",
    "                           \"Max Price\": \"${:,.2f}\"})\n",
    "\n",
    "# purchase_data[\"Item Name\"].value_counts() will display the list of items from top to descending order "
   ]
  },
  {
   "cell_type": "code",
   "execution_count": 22,
   "metadata": {},
   "outputs": [],
   "source": [
    "#purchase_data[\"Price\"].max()"
   ]
  },
  {
   "cell_type": "markdown",
   "metadata": {},
   "source": [
    "## Gender Demographics"
   ]
  },
  {
   "cell_type": "markdown",
   "metadata": {},
   "source": [
    "* Percentage and Count of Male Players\n",
    "\n",
    "\n",
    "* Percentage and Count of Female Players\n",
    "\n",
    "\n",
    "* Percentage and Count of Other / Non-Disclosed\n",
    "\n",
    "\n"
   ]
  },
  {
   "cell_type": "code",
   "execution_count": 13,
   "metadata": {
    "scrolled": true
   },
   "outputs": [
    {
     "data": {
      "text/html": [
       "<div>\n",
       "<style scoped>\n",
       "    .dataframe tbody tr th:only-of-type {\n",
       "        vertical-align: middle;\n",
       "    }\n",
       "\n",
       "    .dataframe tbody tr th {\n",
       "        vertical-align: top;\n",
       "    }\n",
       "\n",
       "    .dataframe thead th {\n",
       "        text-align: right;\n",
       "    }\n",
       "</style>\n",
       "<table border=\"1\" class=\"dataframe\">\n",
       "  <thead>\n",
       "    <tr style=\"text-align: right;\">\n",
       "      <th></th>\n",
       "      <th>Total</th>\n",
       "      <th>Percentage</th>\n",
       "    </tr>\n",
       "    <tr>\n",
       "      <th>Gender</th>\n",
       "      <th></th>\n",
       "      <th></th>\n",
       "    </tr>\n",
       "  </thead>\n",
       "  <tbody>\n",
       "    <tr>\n",
       "      <th>Female</th>\n",
       "      <td>81</td>\n",
       "      <td>14.06%</td>\n",
       "    </tr>\n",
       "    <tr>\n",
       "      <th>Male</th>\n",
       "      <td>484</td>\n",
       "      <td>84.03%</td>\n",
       "    </tr>\n",
       "    <tr>\n",
       "      <th>Other / Non-Disclosed</th>\n",
       "      <td>11</td>\n",
       "      <td>1.91%</td>\n",
       "    </tr>\n",
       "  </tbody>\n",
       "</table>\n",
       "</div>"
      ],
      "text/plain": [
       "                       Total Percentage\n",
       "Gender                                 \n",
       "Female                    81     14.06%\n",
       "Male                     484     84.03%\n",
       "Other / Non-Disclosed     11      1.91%"
      ]
     },
     "execution_count": 13,
     "metadata": {},
     "output_type": "execute_result"
    }
   ],
   "source": [
    "reducedData = purchase_data.groupby(\"Gender\")\n",
    "# grab a number for the unique values, as opposed to an object\n",
    "players = reducedData[\"SN\"].nunique()\n",
    "\n",
    "percentage = players / players.sum() * 100.00\n",
    "genderDemo = pd.DataFrame({\"Total\": players,\n",
    "                           \"Percentage\": percentage.map(\"{:.2f}%\".format)})\n",
    "genderDemo"
   ]
  },
  {
   "cell_type": "code",
   "execution_count": 116,
   "metadata": {},
   "outputs": [],
   "source": [
    "#print(reducedData)\n",
    "#reducedData.count().head(10)"
   ]
  },
  {
   "cell_type": "raw",
   "metadata": {},
   "source": [
    "\n",
    "## Purchasing Analysis (Gender)"
   ]
  },
  {
   "cell_type": "markdown",
   "metadata": {},
   "source": [
    "* Run basic calculations to obtain purchase count, avg. purchase price, avg. purchase total per person etc. by gender\n",
    "\n",
    "\n",
    "\n",
    "\n",
    "* Create a summary data frame to hold the results\n",
    "\n",
    "\n",
    "* Optional: give the displayed data cleaner formatting\n",
    "\n",
    "\n",
    "* Display the summary data frame"
   ]
  },
  {
   "cell_type": "code",
   "execution_count": 14,
   "metadata": {},
   "outputs": [
    {
     "data": {
      "text/html": [
       "<div>\n",
       "<style scoped>\n",
       "    .dataframe tbody tr th:only-of-type {\n",
       "        vertical-align: middle;\n",
       "    }\n",
       "\n",
       "    .dataframe tbody tr th {\n",
       "        vertical-align: top;\n",
       "    }\n",
       "\n",
       "    .dataframe thead th {\n",
       "        text-align: right;\n",
       "    }\n",
       "</style>\n",
       "<table border=\"1\" class=\"dataframe\">\n",
       "  <thead>\n",
       "    <tr style=\"text-align: right;\">\n",
       "      <th></th>\n",
       "      <th>Purchase Count</th>\n",
       "      <th>Average Purchase Price</th>\n",
       "      <th>Total Purchase Value</th>\n",
       "      <th>Avg Per Person</th>\n",
       "    </tr>\n",
       "    <tr>\n",
       "      <th>Gender</th>\n",
       "      <th></th>\n",
       "      <th></th>\n",
       "      <th></th>\n",
       "      <th></th>\n",
       "    </tr>\n",
       "  </thead>\n",
       "  <tbody>\n",
       "    <tr>\n",
       "      <th>Female</th>\n",
       "      <td>113</td>\n",
       "      <td>$3.20</td>\n",
       "      <td>$361.94</td>\n",
       "      <td>$4.47</td>\n",
       "    </tr>\n",
       "    <tr>\n",
       "      <th>Male</th>\n",
       "      <td>652</td>\n",
       "      <td>$3.02</td>\n",
       "      <td>$1,967.64</td>\n",
       "      <td>$4.07</td>\n",
       "    </tr>\n",
       "    <tr>\n",
       "      <th>Other / Non-Disclosed</th>\n",
       "      <td>15</td>\n",
       "      <td>$3.35</td>\n",
       "      <td>$50.19</td>\n",
       "      <td>$4.56</td>\n",
       "    </tr>\n",
       "  </tbody>\n",
       "</table>\n",
       "</div>"
      ],
      "text/plain": [
       "                       Purchase Count Average Purchase Price  \\\n",
       "Gender                                                         \n",
       "Female                            113                  $3.20   \n",
       "Male                              652                  $3.02   \n",
       "Other / Non-Disclosed              15                  $3.35   \n",
       "\n",
       "                      Total Purchase Value Avg Per Person  \n",
       "Gender                                                     \n",
       "Female                             $361.94          $4.47  \n",
       "Male                             $1,967.64          $4.07  \n",
       "Other / Non-Disclosed               $50.19          $4.56  "
      ]
     },
     "execution_count": 14,
     "metadata": {},
     "output_type": "execute_result"
    }
   ],
   "source": [
    "# sum up length of items\n",
    "totalCount = reducedData[\"Item Name\"].value_counts()\n",
    "sumCount = totalCount.sum()\n",
    "#sumCount\n",
    "purchaseCount = reducedData[\"Purchase ID\"].count()\n",
    "purchaseCount\n",
    "priceGender = reducedData[\"Price\"].sum()\n",
    "priceGender.head()\n",
    "purchasingDF = pd.DataFrame({\"Purchase Count\": purchaseCount,\n",
    "                             \"Average Purchase Price\": (priceGender/purchaseCount).map(\"${:,.2f}\".format),\n",
    "                             \"Total Purchase Value\": priceGender.map(\"${:,.2f}\".format),\n",
    "                             \"Avg Per Person\": (priceGender/players).map(\"${:,.2f}\".format)})\n",
    "purchasingDF"
   ]
  },
  {
   "cell_type": "markdown",
   "metadata": {},
   "source": [
    "## Age Demographics"
   ]
  },
  {
   "cell_type": "markdown",
   "metadata": {},
   "source": [
    "* Establish bins for ages\n",
    "\n",
    "\n",
    "* Categorize the existing players using the age bins. Hint: use pd.cut()\n",
    "\n",
    "\n",
    "* Calculate the numbers and percentages by age group\n",
    "\n",
    "\n",
    "* Create a summary data frame to hold the results\n",
    "\n",
    "\n",
    "* Optional: round the percentage column to two decimal points\n",
    "\n",
    "\n",
    "* Display Age Demographics Table\n"
   ]
  },
  {
   "cell_type": "code",
   "execution_count": null,
   "metadata": {},
   "outputs": [],
   "source": []
  },
  {
   "cell_type": "code",
   "execution_count": 15,
   "metadata": {},
   "outputs": [
    {
     "data": {
      "text/plain": [
       "0    20-24\n",
       "1      40+\n",
       "2    20-24\n",
       "3    20-24\n",
       "4    20-24\n",
       "Name: Age, dtype: category\n",
       "Categories (8, object): [<10 < 10-14 < 15-19 < 20-24 < 25-29 < 30-34 < 35-39 < 40+]"
      ]
     },
     "execution_count": 15,
     "metadata": {},
     "output_type": "execute_result"
    }
   ],
   "source": [
    "#binningted\n",
    "#print(purchase_data[\"Age\"].max())\n",
    "bins = [0, 9, 14, 19, 24, 29, 34, 39, 100]\n",
    "binLabels = [\"<10\", \"10-14\", \"15-19\", \"20-24\", \n",
    "             \"25-29\", \"30-34\", \"35-39\", \"40+\"]\n",
    "pd.cut(purchase_data[\"Age\"], bins, labels = binLabels).head()"
   ]
  },
  {
   "cell_type": "code",
   "execution_count": 16,
   "metadata": {},
   "outputs": [
    {
     "data": {
      "text/html": [
       "<div>\n",
       "<style scoped>\n",
       "    .dataframe tbody tr th:only-of-type {\n",
       "        vertical-align: middle;\n",
       "    }\n",
       "\n",
       "    .dataframe tbody tr th {\n",
       "        vertical-align: top;\n",
       "    }\n",
       "\n",
       "    .dataframe thead th {\n",
       "        text-align: right;\n",
       "    }\n",
       "</style>\n",
       "<table border=\"1\" class=\"dataframe\">\n",
       "  <thead>\n",
       "    <tr style=\"text-align: right;\">\n",
       "      <th></th>\n",
       "      <th>Purchase ID</th>\n",
       "      <th>SN</th>\n",
       "      <th>Age</th>\n",
       "      <th>Gender</th>\n",
       "      <th>Item ID</th>\n",
       "      <th>Item Name</th>\n",
       "      <th>Price</th>\n",
       "      <th>Age Group</th>\n",
       "    </tr>\n",
       "  </thead>\n",
       "  <tbody>\n",
       "    <tr>\n",
       "      <th>0</th>\n",
       "      <td>0</td>\n",
       "      <td>Lisim78</td>\n",
       "      <td>20</td>\n",
       "      <td>Male</td>\n",
       "      <td>108</td>\n",
       "      <td>Extraction, Quickblade Of Trembling Hands</td>\n",
       "      <td>3.53</td>\n",
       "      <td>20-24</td>\n",
       "    </tr>\n",
       "    <tr>\n",
       "      <th>1</th>\n",
       "      <td>1</td>\n",
       "      <td>Lisovynya38</td>\n",
       "      <td>40</td>\n",
       "      <td>Male</td>\n",
       "      <td>143</td>\n",
       "      <td>Frenzied Scimitar</td>\n",
       "      <td>1.56</td>\n",
       "      <td>40+</td>\n",
       "    </tr>\n",
       "    <tr>\n",
       "      <th>2</th>\n",
       "      <td>2</td>\n",
       "      <td>Ithergue48</td>\n",
       "      <td>24</td>\n",
       "      <td>Male</td>\n",
       "      <td>92</td>\n",
       "      <td>Final Critic</td>\n",
       "      <td>4.88</td>\n",
       "      <td>20-24</td>\n",
       "    </tr>\n",
       "    <tr>\n",
       "      <th>3</th>\n",
       "      <td>3</td>\n",
       "      <td>Chamassasya86</td>\n",
       "      <td>24</td>\n",
       "      <td>Male</td>\n",
       "      <td>100</td>\n",
       "      <td>Blindscythe</td>\n",
       "      <td>3.27</td>\n",
       "      <td>20-24</td>\n",
       "    </tr>\n",
       "    <tr>\n",
       "      <th>4</th>\n",
       "      <td>4</td>\n",
       "      <td>Iskosia90</td>\n",
       "      <td>23</td>\n",
       "      <td>Male</td>\n",
       "      <td>131</td>\n",
       "      <td>Fury</td>\n",
       "      <td>1.44</td>\n",
       "      <td>20-24</td>\n",
       "    </tr>\n",
       "  </tbody>\n",
       "</table>\n",
       "</div>"
      ],
      "text/plain": [
       "   Purchase ID             SN  Age Gender  Item ID  \\\n",
       "0            0        Lisim78   20   Male      108   \n",
       "1            1    Lisovynya38   40   Male      143   \n",
       "2            2     Ithergue48   24   Male       92   \n",
       "3            3  Chamassasya86   24   Male      100   \n",
       "4            4      Iskosia90   23   Male      131   \n",
       "\n",
       "                                   Item Name  Price Age Group  \n",
       "0  Extraction, Quickblade Of Trembling Hands   3.53     20-24  \n",
       "1                          Frenzied Scimitar   1.56       40+  \n",
       "2                               Final Critic   4.88     20-24  \n",
       "3                                Blindscythe   3.27     20-24  \n",
       "4                                       Fury   1.44     20-24  "
      ]
     },
     "execution_count": 16,
     "metadata": {},
     "output_type": "execute_result"
    }
   ],
   "source": [
    "purchase_data[\"Age Group\"] = pd.cut(purchase_data[\"Age\"], bins, labels = binLabels)\n",
    "purchase_data.head()"
   ]
  },
  {
   "cell_type": "code",
   "execution_count": 17,
   "metadata": {},
   "outputs": [
    {
     "data": {
      "text/html": [
       "<div>\n",
       "<style scoped>\n",
       "    .dataframe tbody tr th:only-of-type {\n",
       "        vertical-align: middle;\n",
       "    }\n",
       "\n",
       "    .dataframe tbody tr th {\n",
       "        vertical-align: top;\n",
       "    }\n",
       "\n",
       "    .dataframe thead th {\n",
       "        text-align: right;\n",
       "    }\n",
       "</style>\n",
       "<table border=\"1\" class=\"dataframe\">\n",
       "  <thead>\n",
       "    <tr style=\"text-align: right;\">\n",
       "      <th></th>\n",
       "      <th>Unique Players</th>\n",
       "      <th>Percentage</th>\n",
       "    </tr>\n",
       "    <tr>\n",
       "      <th>Age Group</th>\n",
       "      <th></th>\n",
       "      <th></th>\n",
       "    </tr>\n",
       "  </thead>\n",
       "  <tbody>\n",
       "    <tr>\n",
       "      <th>&lt;10</th>\n",
       "      <td>17</td>\n",
       "      <td>2.95%</td>\n",
       "    </tr>\n",
       "    <tr>\n",
       "      <th>10-14</th>\n",
       "      <td>22</td>\n",
       "      <td>3.82%</td>\n",
       "    </tr>\n",
       "    <tr>\n",
       "      <th>15-19</th>\n",
       "      <td>107</td>\n",
       "      <td>18.58%</td>\n",
       "    </tr>\n",
       "    <tr>\n",
       "      <th>20-24</th>\n",
       "      <td>258</td>\n",
       "      <td>44.79%</td>\n",
       "    </tr>\n",
       "    <tr>\n",
       "      <th>25-29</th>\n",
       "      <td>77</td>\n",
       "      <td>13.37%</td>\n",
       "    </tr>\n",
       "    <tr>\n",
       "      <th>30-34</th>\n",
       "      <td>52</td>\n",
       "      <td>9.03%</td>\n",
       "    </tr>\n",
       "    <tr>\n",
       "      <th>35-39</th>\n",
       "      <td>31</td>\n",
       "      <td>5.38%</td>\n",
       "    </tr>\n",
       "    <tr>\n",
       "      <th>40+</th>\n",
       "      <td>12</td>\n",
       "      <td>2.08%</td>\n",
       "    </tr>\n",
       "  </tbody>\n",
       "</table>\n",
       "</div>"
      ],
      "text/plain": [
       "           Unique Players Percentage\n",
       "Age Group                           \n",
       "<10                    17      2.95%\n",
       "10-14                  22      3.82%\n",
       "15-19                 107     18.58%\n",
       "20-24                 258     44.79%\n",
       "25-29                  77     13.37%\n",
       "30-34                  52      9.03%\n",
       "35-39                  31      5.38%\n",
       "40+                    12      2.08%"
      ]
     },
     "execution_count": 17,
     "metadata": {},
     "output_type": "execute_result"
    }
   ],
   "source": [
    "groupedAge = purchase_data.groupby(\"Age Group\")\n",
    "playersAge = groupedAge[\"SN\"].nunique()\n",
    "\n",
    "summaryAge = pd.DataFrame({\"Unique Players\": playersAge,\n",
    "                          \"Percentage\": (playersAge / players.sum() * 100.00).map(\"{:.2f}%\".format) })\n",
    "\n",
    "summaryAge\n",
    "#print(groupedAge([players]))\n"
   ]
  },
  {
   "cell_type": "markdown",
   "metadata": {},
   "source": [
    "## Purchasing Analysis (Age)"
   ]
  },
  {
   "cell_type": "markdown",
   "metadata": {},
   "source": [
    "* Bin the purchase_data data frame by age\n",
    "\n",
    "\n",
    "* Run basic calculations to obtain purchase count, avg. purchase price, avg. purchase total per person etc. in the table below\n",
    "\n",
    "\n",
    "* Create a summary data frame to hold the results\n",
    "\n",
    "\n",
    "* Optional: give the displayed data cleaner formatting\n",
    "\n",
    "\n",
    "* Display the summary data frame"
   ]
  },
  {
   "cell_type": "code",
   "execution_count": null,
   "metadata": {},
   "outputs": [],
   "source": []
  },
  {
   "cell_type": "code",
   "execution_count": 18,
   "metadata": {},
   "outputs": [
    {
     "data": {
      "text/html": [
       "<div>\n",
       "<style scoped>\n",
       "    .dataframe tbody tr th:only-of-type {\n",
       "        vertical-align: middle;\n",
       "    }\n",
       "\n",
       "    .dataframe tbody tr th {\n",
       "        vertical-align: top;\n",
       "    }\n",
       "\n",
       "    .dataframe thead th {\n",
       "        text-align: right;\n",
       "    }\n",
       "</style>\n",
       "<table border=\"1\" class=\"dataframe\">\n",
       "  <thead>\n",
       "    <tr style=\"text-align: right;\">\n",
       "      <th></th>\n",
       "      <th>Purchase Count by Age</th>\n",
       "      <th>Average Purchase Price</th>\n",
       "      <th>Total Purchase Value</th>\n",
       "      <th>Average Total Per Person</th>\n",
       "    </tr>\n",
       "    <tr>\n",
       "      <th>Age Group</th>\n",
       "      <th></th>\n",
       "      <th></th>\n",
       "      <th></th>\n",
       "      <th></th>\n",
       "    </tr>\n",
       "  </thead>\n",
       "  <tbody>\n",
       "    <tr>\n",
       "      <th>&lt;10</th>\n",
       "      <td>23</td>\n",
       "      <td>$3.35</td>\n",
       "      <td>$77.13</td>\n",
       "      <td>$4.54</td>\n",
       "    </tr>\n",
       "    <tr>\n",
       "      <th>10-14</th>\n",
       "      <td>28</td>\n",
       "      <td>$2.96</td>\n",
       "      <td>$82.78</td>\n",
       "      <td>$3.76</td>\n",
       "    </tr>\n",
       "    <tr>\n",
       "      <th>15-19</th>\n",
       "      <td>136</td>\n",
       "      <td>$3.04</td>\n",
       "      <td>$412.89</td>\n",
       "      <td>$3.86</td>\n",
       "    </tr>\n",
       "    <tr>\n",
       "      <th>20-24</th>\n",
       "      <td>365</td>\n",
       "      <td>$3.05</td>\n",
       "      <td>$1,114.06</td>\n",
       "      <td>$4.32</td>\n",
       "    </tr>\n",
       "    <tr>\n",
       "      <th>25-29</th>\n",
       "      <td>101</td>\n",
       "      <td>$2.90</td>\n",
       "      <td>$293.00</td>\n",
       "      <td>$3.81</td>\n",
       "    </tr>\n",
       "    <tr>\n",
       "      <th>30-34</th>\n",
       "      <td>73</td>\n",
       "      <td>$2.93</td>\n",
       "      <td>$214.00</td>\n",
       "      <td>$4.12</td>\n",
       "    </tr>\n",
       "    <tr>\n",
       "      <th>35-39</th>\n",
       "      <td>41</td>\n",
       "      <td>$3.60</td>\n",
       "      <td>$147.67</td>\n",
       "      <td>$4.76</td>\n",
       "    </tr>\n",
       "    <tr>\n",
       "      <th>40+</th>\n",
       "      <td>13</td>\n",
       "      <td>$2.94</td>\n",
       "      <td>$38.24</td>\n",
       "      <td>$3.19</td>\n",
       "    </tr>\n",
       "  </tbody>\n",
       "</table>\n",
       "</div>"
      ],
      "text/plain": [
       "           Purchase Count by Age Average Purchase Price Total Purchase Value  \\\n",
       "Age Group                                                                      \n",
       "<10                           23                  $3.35               $77.13   \n",
       "10-14                         28                  $2.96               $82.78   \n",
       "15-19                        136                  $3.04              $412.89   \n",
       "20-24                        365                  $3.05            $1,114.06   \n",
       "25-29                        101                  $2.90              $293.00   \n",
       "30-34                         73                  $2.93              $214.00   \n",
       "35-39                         41                  $3.60              $147.67   \n",
       "40+                           13                  $2.94               $38.24   \n",
       "\n",
       "          Average Total Per Person  \n",
       "Age Group                           \n",
       "<10                          $4.54  \n",
       "10-14                        $3.76  \n",
       "15-19                        $3.86  \n",
       "20-24                        $4.32  \n",
       "25-29                        $3.81  \n",
       "30-34                        $4.12  \n",
       "35-39                        $4.76  \n",
       "40+                          $3.19  "
      ]
     },
     "execution_count": 18,
     "metadata": {},
     "output_type": "execute_result"
    }
   ],
   "source": [
    "agePurchaseCount = groupedAge[\"Purchase ID\"].count()\n",
    "priceAge = groupedAge[\"Price\"].sum()\n",
    "#priceAge\n",
    "purchasePrice = priceAge/agePurchaseCount \n",
    "#purchasePrice\n",
    "analysisAge = pd.DataFrame({\"Purchase Count by Age\": agePurchaseCount,\n",
    "                            \"Average Purchase Price\": purchasePrice.map(\"${:,.2f}\".format),\n",
    "                            \"Total Purchase Value\": priceAge.map(\"${:,.2f}\".format),\n",
    "                            \"Average Total Per Person\": (priceAge/playersAge).map(\"${:,.2f}\".format)})\n",
    "analysisAge"
   ]
  },
  {
   "cell_type": "markdown",
   "metadata": {},
   "source": [
    "## Top Spenders"
   ]
  },
  {
   "cell_type": "markdown",
   "metadata": {},
   "source": [
    "* Run basic calculations to obtain the results in the table below\n",
    "\n",
    "\n",
    "* Create a summary data frame to hold the results\n",
    "\n",
    "\n",
    "* Sort the total purchase value column in descending order\n",
    "\n",
    "\n",
    "* Optional: give the displayed data cleaner formatting\n",
    "\n",
    "\n",
    "* Display a preview of the summary data frame\n",
    "\n"
   ]
  },
  {
   "cell_type": "code",
   "execution_count": null,
   "metadata": {},
   "outputs": [],
   "source": []
  },
  {
   "cell_type": "code",
   "execution_count": 19,
   "metadata": {},
   "outputs": [
    {
     "data": {
      "text/html": [
       "<style  type=\"text/css\" >\n",
       "</style><table id=\"T_04d973d2_9ac7_11e9_9511_f82819e5bdd6\" ><thead>    <tr>        <th class=\"blank level0\" ></th>        <th class=\"col_heading level0 col0\" >Purchase Count</th>        <th class=\"col_heading level0 col1\" >Average Price Spent</th>        <th class=\"col_heading level0 col2\" >Total Purchase Value</th>    </tr>    <tr>        <th class=\"index_name level0\" >SN</th>        <th class=\"blank\" ></th>        <th class=\"blank\" ></th>        <th class=\"blank\" ></th>    </tr></thead><tbody>\n",
       "                <tr>\n",
       "                        <th id=\"T_04d973d2_9ac7_11e9_9511_f82819e5bdd6level0_row0\" class=\"row_heading level0 row0\" >Lisosia93</th>\n",
       "                        <td id=\"T_04d973d2_9ac7_11e9_9511_f82819e5bdd6row0_col0\" class=\"data row0 col0\" >5</td>\n",
       "                        <td id=\"T_04d973d2_9ac7_11e9_9511_f82819e5bdd6row0_col1\" class=\"data row0 col1\" >$3.79</td>\n",
       "                        <td id=\"T_04d973d2_9ac7_11e9_9511_f82819e5bdd6row0_col2\" class=\"data row0 col2\" >$18.96</td>\n",
       "            </tr>\n",
       "            <tr>\n",
       "                        <th id=\"T_04d973d2_9ac7_11e9_9511_f82819e5bdd6level0_row1\" class=\"row_heading level0 row1\" >Idastidru52</th>\n",
       "                        <td id=\"T_04d973d2_9ac7_11e9_9511_f82819e5bdd6row1_col0\" class=\"data row1 col0\" >4</td>\n",
       "                        <td id=\"T_04d973d2_9ac7_11e9_9511_f82819e5bdd6row1_col1\" class=\"data row1 col1\" >$3.86</td>\n",
       "                        <td id=\"T_04d973d2_9ac7_11e9_9511_f82819e5bdd6row1_col2\" class=\"data row1 col2\" >$15.45</td>\n",
       "            </tr>\n",
       "            <tr>\n",
       "                        <th id=\"T_04d973d2_9ac7_11e9_9511_f82819e5bdd6level0_row2\" class=\"row_heading level0 row2\" >Chamjask73</th>\n",
       "                        <td id=\"T_04d973d2_9ac7_11e9_9511_f82819e5bdd6row2_col0\" class=\"data row2 col0\" >3</td>\n",
       "                        <td id=\"T_04d973d2_9ac7_11e9_9511_f82819e5bdd6row2_col1\" class=\"data row2 col1\" >$4.61</td>\n",
       "                        <td id=\"T_04d973d2_9ac7_11e9_9511_f82819e5bdd6row2_col2\" class=\"data row2 col2\" >$13.83</td>\n",
       "            </tr>\n",
       "            <tr>\n",
       "                        <th id=\"T_04d973d2_9ac7_11e9_9511_f82819e5bdd6level0_row3\" class=\"row_heading level0 row3\" >Iral74</th>\n",
       "                        <td id=\"T_04d973d2_9ac7_11e9_9511_f82819e5bdd6row3_col0\" class=\"data row3 col0\" >4</td>\n",
       "                        <td id=\"T_04d973d2_9ac7_11e9_9511_f82819e5bdd6row3_col1\" class=\"data row3 col1\" >$3.40</td>\n",
       "                        <td id=\"T_04d973d2_9ac7_11e9_9511_f82819e5bdd6row3_col2\" class=\"data row3 col2\" >$13.62</td>\n",
       "            </tr>\n",
       "            <tr>\n",
       "                        <th id=\"T_04d973d2_9ac7_11e9_9511_f82819e5bdd6level0_row4\" class=\"row_heading level0 row4\" >Iskadarya95</th>\n",
       "                        <td id=\"T_04d973d2_9ac7_11e9_9511_f82819e5bdd6row4_col0\" class=\"data row4 col0\" >3</td>\n",
       "                        <td id=\"T_04d973d2_9ac7_11e9_9511_f82819e5bdd6row4_col1\" class=\"data row4 col1\" >$4.37</td>\n",
       "                        <td id=\"T_04d973d2_9ac7_11e9_9511_f82819e5bdd6row4_col2\" class=\"data row4 col2\" >$13.10</td>\n",
       "            </tr>\n",
       "    </tbody></table>"
      ],
      "text/plain": [
       "<pandas.io.formats.style.Styler at 0x1739ee0dc88>"
      ]
     },
     "execution_count": 19,
     "metadata": {},
     "output_type": "execute_result"
    }
   ],
   "source": [
    "# now looks like we will be grouping by SN\n",
    "groupedSpenders = purchase_data.groupby(\"SN\")\n",
    "count = groupedSpenders[\"SN\"].count()\n",
    "totalPurchaseValue = groupedSpenders[\"Price\"].sum()\n",
    "frameSpenders = pd.DataFrame({\"Purchase Count\": count,\n",
    "                              \"Average Price Spent\": totalPurchaseValue/count,\n",
    "                              \"Total Purchase Value\": totalPurchaseValue})\n",
    "sorTE = frameSpenders.sort_values(by=[\"Total Purchase Value\"], ascending=False).head()\n",
    "sorTE.style.format({\"Total Purchase Value\":\"${:,.2f}\",\n",
    "                    \"Average Price Spent\": \"${:,.2f}\"})"
   ]
  },
  {
   "cell_type": "markdown",
   "metadata": {},
   "source": [
    "## Most Popular Items"
   ]
  },
  {
   "cell_type": "markdown",
   "metadata": {},
   "source": [
    "* Retrieve the Item ID, Item Name, and Item Price columns\n",
    "\n",
    "\n",
    "* Group by Item ID and Item Name. Perform calculations to obtain purchase count, item price, and total purchase value\n",
    "\n",
    "\n",
    "* Create a summary data frame to hold the results\n",
    "\n",
    "\n",
    "* Sort the purchase count column in descending order\n",
    "\n",
    "\n",
    "* Optional: give the displayed data cleaner formatting\n",
    "\n",
    "\n",
    "* Display a preview of the summary data frame\n",
    "\n"
   ]
  },
  {
   "cell_type": "code",
   "execution_count": null,
   "metadata": {},
   "outputs": [],
   "source": []
  },
  {
   "cell_type": "code",
   "execution_count": 20,
   "metadata": {},
   "outputs": [
    {
     "data": {
      "text/html": [
       "<style  type=\"text/css\" >\n",
       "</style><table id=\"T_06a229e2_9ac7_11e9_b289_f82819e5bdd6\" ><thead>    <tr>        <th class=\"blank\" ></th>        <th class=\"blank level0\" ></th>        <th class=\"col_heading level0 col0\" >Purchase Count</th>        <th class=\"col_heading level0 col1\" >Item Price</th>        <th class=\"col_heading level0 col2\" >Total Purchase Value</th>    </tr>    <tr>        <th class=\"index_name level0\" >Item ID</th>        <th class=\"index_name level1\" >Item Name</th>        <th class=\"blank\" ></th>        <th class=\"blank\" ></th>        <th class=\"blank\" ></th>    </tr></thead><tbody>\n",
       "                <tr>\n",
       "                        <th id=\"T_06a229e2_9ac7_11e9_b289_f82819e5bdd6level0_row0\" class=\"row_heading level0 row0\" >178</th>\n",
       "                        <th id=\"T_06a229e2_9ac7_11e9_b289_f82819e5bdd6level1_row0\" class=\"row_heading level1 row0\" >Oathbreaker, Last Hope of the Breaking Storm</th>\n",
       "                        <td id=\"T_06a229e2_9ac7_11e9_b289_f82819e5bdd6row0_col0\" class=\"data row0 col0\" >12</td>\n",
       "                        <td id=\"T_06a229e2_9ac7_11e9_b289_f82819e5bdd6row0_col1\" class=\"data row0 col1\" >$4.23</td>\n",
       "                        <td id=\"T_06a229e2_9ac7_11e9_b289_f82819e5bdd6row0_col2\" class=\"data row0 col2\" >$50.76</td>\n",
       "            </tr>\n",
       "            <tr>\n",
       "                        <th id=\"T_06a229e2_9ac7_11e9_b289_f82819e5bdd6level0_row1\" class=\"row_heading level0 row1\" >145</th>\n",
       "                        <th id=\"T_06a229e2_9ac7_11e9_b289_f82819e5bdd6level1_row1\" class=\"row_heading level1 row1\" >Fiery Glass Crusader</th>\n",
       "                        <td id=\"T_06a229e2_9ac7_11e9_b289_f82819e5bdd6row1_col0\" class=\"data row1 col0\" >9</td>\n",
       "                        <td id=\"T_06a229e2_9ac7_11e9_b289_f82819e5bdd6row1_col1\" class=\"data row1 col1\" >$4.58</td>\n",
       "                        <td id=\"T_06a229e2_9ac7_11e9_b289_f82819e5bdd6row1_col2\" class=\"data row1 col2\" >$41.22</td>\n",
       "            </tr>\n",
       "            <tr>\n",
       "                        <th id=\"T_06a229e2_9ac7_11e9_b289_f82819e5bdd6level0_row2\" class=\"row_heading level0 row2\" >108</th>\n",
       "                        <th id=\"T_06a229e2_9ac7_11e9_b289_f82819e5bdd6level1_row2\" class=\"row_heading level1 row2\" >Extraction, Quickblade Of Trembling Hands</th>\n",
       "                        <td id=\"T_06a229e2_9ac7_11e9_b289_f82819e5bdd6row2_col0\" class=\"data row2 col0\" >9</td>\n",
       "                        <td id=\"T_06a229e2_9ac7_11e9_b289_f82819e5bdd6row2_col1\" class=\"data row2 col1\" >$3.53</td>\n",
       "                        <td id=\"T_06a229e2_9ac7_11e9_b289_f82819e5bdd6row2_col2\" class=\"data row2 col2\" >$31.77</td>\n",
       "            </tr>\n",
       "            <tr>\n",
       "                        <th id=\"T_06a229e2_9ac7_11e9_b289_f82819e5bdd6level0_row3\" class=\"row_heading level0 row3\" >82</th>\n",
       "                        <th id=\"T_06a229e2_9ac7_11e9_b289_f82819e5bdd6level1_row3\" class=\"row_heading level1 row3\" >Nirvana</th>\n",
       "                        <td id=\"T_06a229e2_9ac7_11e9_b289_f82819e5bdd6row3_col0\" class=\"data row3 col0\" >9</td>\n",
       "                        <td id=\"T_06a229e2_9ac7_11e9_b289_f82819e5bdd6row3_col1\" class=\"data row3 col1\" >$4.90</td>\n",
       "                        <td id=\"T_06a229e2_9ac7_11e9_b289_f82819e5bdd6row3_col2\" class=\"data row3 col2\" >$44.10</td>\n",
       "            </tr>\n",
       "            <tr>\n",
       "                        <th id=\"T_06a229e2_9ac7_11e9_b289_f82819e5bdd6level0_row4\" class=\"row_heading level0 row4\" >19</th>\n",
       "                        <th id=\"T_06a229e2_9ac7_11e9_b289_f82819e5bdd6level1_row4\" class=\"row_heading level1 row4\" >Pursuit, Cudgel of Necromancy</th>\n",
       "                        <td id=\"T_06a229e2_9ac7_11e9_b289_f82819e5bdd6row4_col0\" class=\"data row4 col0\" >8</td>\n",
       "                        <td id=\"T_06a229e2_9ac7_11e9_b289_f82819e5bdd6row4_col1\" class=\"data row4 col1\" >$1.02</td>\n",
       "                        <td id=\"T_06a229e2_9ac7_11e9_b289_f82819e5bdd6row4_col2\" class=\"data row4 col2\" >$8.16</td>\n",
       "            </tr>\n",
       "    </tbody></table>"
      ],
      "text/plain": [
       "<pandas.io.formats.style.Styler at 0x1739ee186a0>"
      ]
     },
     "execution_count": 20,
     "metadata": {},
     "output_type": "execute_result"
    }
   ],
   "source": [
    "popular = purchase_data.groupby([\"Item ID\", \"Item Name\"])\n",
    "#popular\n",
    "itemCount = popular[\"Item ID\"].count()\n",
    "itemTotalPrice = popular[\"Price\"].sum()\n",
    "#itemCount = popular.set_index(\"Item ID\")\n",
    "itemDataFrame = pd.DataFrame({\"Purchase Count\": itemCount,\n",
    "                              \"Item Price\": itemTotalPrice/itemCount,\n",
    "                              \"Total Purchase Value\": itemTotalPrice})\n",
    "itemSort = itemDataFrame.sort_values(by=[\"Purchase Count\"], ascending=False).head()\n",
    "itemSort.style.format({\"Item Price\": \"${:,.2f}\",\n",
    "                       \"Total Purchase Value\": \"${:,.2f}\"})"
   ]
  },
  {
   "cell_type": "markdown",
   "metadata": {},
   "source": [
    "## Most Profitable Items"
   ]
  },
  {
   "cell_type": "markdown",
   "metadata": {},
   "source": [
    "* Sort the above table by total purchase value in descending order\n",
    "\n",
    "\n",
    "* Optional: give the displayed data cleaner formatting\n",
    "\n",
    "\n",
    "* Display a preview of the data frame\n",
    "\n"
   ]
  },
  {
   "cell_type": "code",
   "execution_count": null,
   "metadata": {
    "scrolled": true
   },
   "outputs": [],
   "source": []
  },
  {
   "cell_type": "code",
   "execution_count": 21,
   "metadata": {},
   "outputs": [
    {
     "data": {
      "text/html": [
       "<style  type=\"text/css\" >\n",
       "</style><table id=\"T_080340ca_9ac7_11e9_af20_f82819e5bdd6\" ><thead>    <tr>        <th class=\"blank\" ></th>        <th class=\"blank level0\" ></th>        <th class=\"col_heading level0 col0\" >Purchase Count</th>        <th class=\"col_heading level0 col1\" >Item Price</th>        <th class=\"col_heading level0 col2\" >Total Purchase Value</th>    </tr>    <tr>        <th class=\"index_name level0\" >Item ID</th>        <th class=\"index_name level1\" >Item Name</th>        <th class=\"blank\" ></th>        <th class=\"blank\" ></th>        <th class=\"blank\" ></th>    </tr></thead><tbody>\n",
       "                <tr>\n",
       "                        <th id=\"T_080340ca_9ac7_11e9_af20_f82819e5bdd6level0_row0\" class=\"row_heading level0 row0\" >178</th>\n",
       "                        <th id=\"T_080340ca_9ac7_11e9_af20_f82819e5bdd6level1_row0\" class=\"row_heading level1 row0\" >Oathbreaker, Last Hope of the Breaking Storm</th>\n",
       "                        <td id=\"T_080340ca_9ac7_11e9_af20_f82819e5bdd6row0_col0\" class=\"data row0 col0\" >12</td>\n",
       "                        <td id=\"T_080340ca_9ac7_11e9_af20_f82819e5bdd6row0_col1\" class=\"data row0 col1\" >$4.23</td>\n",
       "                        <td id=\"T_080340ca_9ac7_11e9_af20_f82819e5bdd6row0_col2\" class=\"data row0 col2\" >$50.76</td>\n",
       "            </tr>\n",
       "            <tr>\n",
       "                        <th id=\"T_080340ca_9ac7_11e9_af20_f82819e5bdd6level0_row1\" class=\"row_heading level0 row1\" >82</th>\n",
       "                        <th id=\"T_080340ca_9ac7_11e9_af20_f82819e5bdd6level1_row1\" class=\"row_heading level1 row1\" >Nirvana</th>\n",
       "                        <td id=\"T_080340ca_9ac7_11e9_af20_f82819e5bdd6row1_col0\" class=\"data row1 col0\" >9</td>\n",
       "                        <td id=\"T_080340ca_9ac7_11e9_af20_f82819e5bdd6row1_col1\" class=\"data row1 col1\" >$4.90</td>\n",
       "                        <td id=\"T_080340ca_9ac7_11e9_af20_f82819e5bdd6row1_col2\" class=\"data row1 col2\" >$44.10</td>\n",
       "            </tr>\n",
       "            <tr>\n",
       "                        <th id=\"T_080340ca_9ac7_11e9_af20_f82819e5bdd6level0_row2\" class=\"row_heading level0 row2\" >145</th>\n",
       "                        <th id=\"T_080340ca_9ac7_11e9_af20_f82819e5bdd6level1_row2\" class=\"row_heading level1 row2\" >Fiery Glass Crusader</th>\n",
       "                        <td id=\"T_080340ca_9ac7_11e9_af20_f82819e5bdd6row2_col0\" class=\"data row2 col0\" >9</td>\n",
       "                        <td id=\"T_080340ca_9ac7_11e9_af20_f82819e5bdd6row2_col1\" class=\"data row2 col1\" >$4.58</td>\n",
       "                        <td id=\"T_080340ca_9ac7_11e9_af20_f82819e5bdd6row2_col2\" class=\"data row2 col2\" >$41.22</td>\n",
       "            </tr>\n",
       "            <tr>\n",
       "                        <th id=\"T_080340ca_9ac7_11e9_af20_f82819e5bdd6level0_row3\" class=\"row_heading level0 row3\" >92</th>\n",
       "                        <th id=\"T_080340ca_9ac7_11e9_af20_f82819e5bdd6level1_row3\" class=\"row_heading level1 row3\" >Final Critic</th>\n",
       "                        <td id=\"T_080340ca_9ac7_11e9_af20_f82819e5bdd6row3_col0\" class=\"data row3 col0\" >8</td>\n",
       "                        <td id=\"T_080340ca_9ac7_11e9_af20_f82819e5bdd6row3_col1\" class=\"data row3 col1\" >$4.88</td>\n",
       "                        <td id=\"T_080340ca_9ac7_11e9_af20_f82819e5bdd6row3_col2\" class=\"data row3 col2\" >$39.04</td>\n",
       "            </tr>\n",
       "            <tr>\n",
       "                        <th id=\"T_080340ca_9ac7_11e9_af20_f82819e5bdd6level0_row4\" class=\"row_heading level0 row4\" >103</th>\n",
       "                        <th id=\"T_080340ca_9ac7_11e9_af20_f82819e5bdd6level1_row4\" class=\"row_heading level1 row4\" >Singed Scalpel</th>\n",
       "                        <td id=\"T_080340ca_9ac7_11e9_af20_f82819e5bdd6row4_col0\" class=\"data row4 col0\" >8</td>\n",
       "                        <td id=\"T_080340ca_9ac7_11e9_af20_f82819e5bdd6row4_col1\" class=\"data row4 col1\" >$4.35</td>\n",
       "                        <td id=\"T_080340ca_9ac7_11e9_af20_f82819e5bdd6row4_col2\" class=\"data row4 col2\" >$34.80</td>\n",
       "            </tr>\n",
       "    </tbody></table>"
      ],
      "text/plain": [
       "<pandas.io.formats.style.Styler at 0x1739ee0d828>"
      ]
     },
     "execution_count": 21,
     "metadata": {},
     "output_type": "execute_result"
    }
   ],
   "source": [
    "itemDataFrame = pd.DataFrame({\"Purchase Count\": itemCount,\n",
    "                              \"Item Price\": itemTotalPrice/itemCount,\n",
    "                              \"Total Purchase Value\": itemTotalPrice})\n",
    "itemPopularSort = itemDataFrame.sort_values(by=[\"Total Purchase Value\"], ascending=False).head()\n",
    "itemPopularSort.style.format({\"Item Price\": \"${:,.2f}\",\n",
    "                              \"Total Purchase Value\": \"${:,.2f}\"})\n"
   ]
  },
  {
   "cell_type": "code",
   "execution_count": null,
   "metadata": {},
   "outputs": [],
   "source": []
  }
 ],
 "metadata": {
  "anaconda-cloud": {},
  "kernel_info": {
   "name": "python3"
  },
  "kernelspec": {
   "display_name": "Python 3",
   "language": "python",
   "name": "python3"
  },
  "language_info": {
   "codemirror_mode": {
    "name": "ipython",
    "version": 3
   },
   "file_extension": ".py",
   "mimetype": "text/x-python",
   "name": "python",
   "nbconvert_exporter": "python",
   "pygments_lexer": "ipython3",
   "version": "3.6.8"
  },
  "nteract": {
   "version": "0.2.0"
  }
 },
 "nbformat": 4,
 "nbformat_minor": 2
}
